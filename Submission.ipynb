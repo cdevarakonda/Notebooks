{
    "cells": [
        {
            "metadata": {},
            "cell_type": "markdown",
            "source": "# My Jupyter Notebook on IBM Watson Studio"
        },
        {
            "metadata": {},
            "cell_type": "markdown",
            "source": "__Chaitanya Sudhakar Devarakonda__\nData Scientist "
        },
        {
            "metadata": {},
            "cell_type": "markdown",
            "source": "_I am interested in Data Science as I want to use it for improving medcial imaging techniques_"
        },
        {
            "metadata": {},
            "cell_type": "markdown",
            "source": "### Code below returns hello world"
        },
        {
            "metadata": {},
            "cell_type": "code",
            "source": "print(\"Hello World\")\n",
            "execution_count": 1,
            "outputs": [
                {
                    "output_type": "stream",
                    "text": "Hello World\n",
                    "name": "stdout"
                }
            ]
        },
        {
            "metadata": {},
            "cell_type": "markdown",
            "source": "<a href=https://www.cognitiveclass.ai>Cognitive Class</a>\n1. first item\n2. second item\n   * sub list item\n\nInline `code` has `back-ticks around` it to `highlight`\n\n![alt text](https://github.com/adam-p/markdown-here/raw/master/src/common/images/icon48.png \"Logo Title Text 1\")\n\nTest | Table | One\n--- | --- | ---\n*Format* | One | **nicely**\n1 | 2 | 3"
        }
    ],
    "metadata": {
        "kernelspec": {
            "name": "python3",
            "display_name": "Python 3.6",
            "language": "python"
        },
        "language_info": {
            "name": "python",
            "version": "3.6.9",
            "mimetype": "text/x-python",
            "codemirror_mode": {
                "name": "ipython",
                "version": 3
            },
            "pygments_lexer": "ipython3",
            "nbconvert_exporter": "python",
            "file_extension": ".py"
        }
    },
    "nbformat": 4,
    "nbformat_minor": 2
}